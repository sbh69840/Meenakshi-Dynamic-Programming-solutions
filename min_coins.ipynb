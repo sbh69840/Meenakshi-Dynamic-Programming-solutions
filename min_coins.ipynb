{
 "cells": [
  {
   "cell_type": "code",
   "execution_count": 54,
   "metadata": {},
   "outputs": [
    {
     "name": "stdout",
     "output_type": "stream",
     "text": [
      "[38, 24, 1, 26, 49, 39, 16, 34, 15, 46] 9339\n"
     ]
    }
   ],
   "source": [
    "import math\n",
    "import random\n",
    "coins = [random.randint(1,50) for _ in range(10)]\n",
    "req_sum = random.randint(500,10000)\n",
    "print(coins,req_sum)"
   ]
  },
  {
   "cell_type": "code",
   "execution_count": 66,
   "metadata": {},
   "outputs": [
    {
     "data": {
      "text/plain": [
       "192"
      ]
     },
     "execution_count": 66,
     "metadata": {},
     "output_type": "execute_result"
    }
   ],
   "source": [
    "# %%timeit\n",
    "def minCoins(coins,required_sum,index,coins_chosen):\n",
    "    if required_sum==0:\n",
    "        return len(coins_chosen)\n",
    "    elif index==len(coins):\n",
    "        return math.inf \n",
    "    else:\n",
    "        first = minCoins(coins,required_sum-coins[index],index+1,coins_chosen+[coins[index]])\n",
    "        second = minCoins(coins,required_sum,index+1,coins_chosen)\n",
    "        if coins[index]!=1:\n",
    "            third = minCoins(coins,required_sum-(coins[index]*math.floor(required_sum/coins[index])),index+1,coins_chosen+[\\\n",
    "                coins[index]]*math.floor(required_sum/coins[index]))\n",
    "        else:\n",
    "            third = minCoins(coins,required_sum-(required_sum),index+1,coins_chosen+[1]*required_sum)\n",
    "        return min(first,second,third)\n",
    "minCoins(coins,req_sum,0,[])"
   ]
  },
  {
   "cell_type": "code",
   "execution_count": 67,
   "metadata": {},
   "outputs": [
    {
     "data": {
      "text/plain": [
       "191"
      ]
     },
     "execution_count": 67,
     "metadata": {},
     "output_type": "execute_result"
    }
   ],
   "source": [
    "# %%timeit\n",
    "class Memo:\n",
    "\tdef __init__(self,fn):\n",
    "\t\tself.fn = fn\n",
    "\t\tself.memory = {}\n",
    "\tdef __call__(self,*args):\n",
    "\t\tif args[1] not in self.memory:\n",
    "\t\t\tself.memory[args[1]]=self.fn(*args)\n",
    "\t\treturn self.memory[args[1]]\n",
    "@Memo \n",
    "def coins_backtrack(arr,current_sum):\n",
    "\tif current_sum==0:\n",
    "\t\treturn 0\n",
    "\telse:\n",
    "\t\tres = math.inf\n",
    "\t\tfor i in range(len(arr)):\n",
    "\t\t\tif arr[i]<=current_sum:\n",
    "\t\t\t\ttemp = coins_backtrack(arr,current_sum-arr[i])\n",
    "\t\t\t\tif temp+1<res:\n",
    "\t\t\t\t\tres = temp+1\n",
    "\t\treturn res\n",
    "coins_backtrack(coins,req_sum) "
   ]
  },
  {
   "cell_type": "code",
   "execution_count": 72,
   "metadata": {},
   "outputs": [
    {
     "name": "stdout",
     "output_type": "stream",
     "text": [
      "189\n",
      "18794\n"
     ]
    }
   ],
   "source": [
    "# %%timeit\n",
    "count = 0\n",
    "class Memo:\n",
    "    def __init__(self,fn):\n",
    "        self.fn = fn\n",
    "        self.memory = {}\n",
    "    def __call__(self,*args):\n",
    "        if args[1:] not in memory:\n",
    "            memory[args[1:]]=self.fn(*args)\n",
    "        return memory[args[1:]]\n",
    "\n",
    "def minCoinsNA(coins,required_sum,index):\n",
    "    if required_sum==0:\n",
    "        return 0\n",
    "    elif index==len(coins):\n",
    "        return math.inf\n",
    "    else:\n",
    "        global count\n",
    "        count+=1\n",
    "        first = minCoinsNA(coins,required_sum,index+1)\n",
    "        second = minCoinsNA(coins,required_sum-coins[index],index+1)\n",
    "        third = minCoinsNA(coins,required_sum-(coins[index]*math.floor(required_sum/coins[index])),index+1)\n",
    "        return min(first,second+1,third+math.floor(required_sum/coins[index]))\n",
    "print(minCoinsNA(coins,req_sum,0))\n",
    "print(count)"
   ]
  },
  {
   "cell_type": "code",
   "execution_count": 94,
   "metadata": {},
   "outputs": [
    {
     "name": "stdout",
     "output_type": "stream",
     "text": [
      "428 ms ± 1.34 ms per loop (mean ± std. dev. of 7 runs, 1 loop each)\n"
     ]
    }
   ],
   "source": [
    "%%timeit\n",
    "store = [[0]*req_sum for _ in range(req_sum+1)]\n",
    "store[0] = []\n",
    "# print(len(store[1]))\n",
    "for i in range(1,req_sum+1):\n",
    "    for j in range(len(coins)):\n",
    "        if coins[j]<=i:\n",
    "            temp = len(store[i-coins[j]])\n",
    "            if temp+1<len(store[i]):\n",
    "                store[i]=store[i-coins[j]].copy()\n",
    "                store[i].append(coins[j])\n",
    "# print(store[req_sum])\n"
   ]
  }
 ],
 "metadata": {
  "kernelspec": {
   "display_name": "Python 3",
   "language": "python",
   "name": "python3"
  },
  "language_info": {
   "codemirror_mode": {
    "name": "ipython",
    "version": 3
   },
   "file_extension": ".py",
   "mimetype": "text/x-python",
   "name": "python",
   "nbconvert_exporter": "python",
   "pygments_lexer": "ipython3",
   "version": "3.5.2"
  }
 },
 "nbformat": 4,
 "nbformat_minor": 2
}
